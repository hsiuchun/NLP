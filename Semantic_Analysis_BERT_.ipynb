{
  "cells": [
    {
      "cell_type": "markdown",
      "metadata": {
        "id": "view-in-github",
        "colab_type": "text"
      },
      "source": [
        "<a href=\"https://colab.research.google.com/github/hsiuchun/NLP/blob/main/Semantic_Analysis_BERT_.ipynb\" target=\"_parent\"><img src=\"https://colab.research.google.com/assets/colab-badge.svg\" alt=\"Open In Colab\"/></a>"
      ]
    },
    {
      "cell_type": "markdown",
      "source": [
        "# 情緒分析\n",
        "\n",
        "資料集: [Learning Word Vectors for Sentiment Analysis](https://aclanthology.org/P11-1015.pdf)\n",
        "\n",
        "程式碼參考自: [huggingface](https://huggingface.co/)\n",
        "\n",
        "> **資料集說明**\n",
        "\n",
        "Large Movie Review Dataset. This is a dataset for binary sentiment classification containing substantially more data than previous benchmark datasets. We provide a set of 25,000 highly polar movie reviews for training, and 25,000 for testing. There is additional unlabeled data for use as well.\n",
        "\n",
        ">**本次介紹模型為BERT**\n",
        "\n",
        "[BERT: Pre-training of Deep Bidirectional Transformers for Language Understanding](https://github.com/google-research/bert)\n",
        "\n",
        "程式碼參考自: [huggingface](https://huggingface.co/)\n",
        "\n",
        "![](https://i.imgur.com/spiKPbQ.png)\n",
        "\n",
        "[可搭配李宏毅大大的說明影片食用](https://youtu.be/UYPa347-DdE)\n",
        "\n",
        "**訓練一個BERT分類模型，輸入是一句話，辨識出這句話的情緒傾向。**"
      ],
      "metadata": {
        "id": "ZpI-S9-Hp-En"
      },
      "id": "ZpI-S9-Hp-En"
    },
    {
      "cell_type": "markdown",
      "metadata": {
        "id": "sAaBnWzTXyQ_"
      },
      "source": [
        "## 定義你的 Hyperparameters\n",
        "\n",
        "* 如果電腦的記憶體不夠可以試著減少 batch_size\n",
        "* 因為我們採用現有的模型去fine-tune，所以一般不需要設太多 epochs\n",
        "* config 就是我們所使用的現有模型，可以自己找適合的做替換\n",
        "* 這次是做二分類所以 num_class 是 2\n",
        "* 如果你的模型 overfit 了，可以把 dropout 調高\n",
        "* 可以試著調高或調低 learning_rate，這會影響他的學習速度（跨步的大小）\n",
        "* 你應該先檢閱你的資料再來決定 max_len （但 BERT 最大只吃到 512）"
      ],
      "id": "sAaBnWzTXyQ_"
    },
    {
      "cell_type": "code",
      "source": [
        "from datetime import datetime\n",
        "parameters = {\n",
        "    \"num_class\": 2,\n",
        "    \"time\": str(datetime.now()).replace(\" \", \"_\"),\n",
        "    \"seed\": 1111,\n",
        "    # Hyperparameters\n",
        "    \"model_name\": 'BERT',\n",
        "    \"config\": 'bert-base-uncased',\n",
        "    \"learning_rate\": 1e-4,\n",
        "    \"epochs\": 3,\n",
        "    \"max_len\": 512,\n",
        "    \"batch_size\": 16,\n",
        "    \"dropout\": 0.1,\n",
        "    \"activation\": 'Prelu',\n",
        "    \"hidden_dim\": 384,\n",
        "}"
      ],
      "metadata": {
        "id": "Jaui0JY50LR_"
      },
      "execution_count": 1,
      "outputs": [],
      "id": "Jaui0JY50LR_"
    },
    {
      "cell_type": "markdown",
      "source": [
        "## 資料集準備\n",
        "\n",
        "- 資料集說明 :\n",
        "  - text: a string feature.\n",
        "  - label: a classification label, with possible values including neg (0), pos (1)."
      ],
      "metadata": {
        "id": "6Y3gm_UxqEr1"
      },
      "id": "6Y3gm_UxqEr1"
    },
    {
      "cell_type": "markdown",
      "metadata": {
        "id": "ioYB1sE_XyRA"
      },
      "source": [
        "### 載入資料\n",
        "\n",
        "安裝 huggingface 的 dataset 套件（可以直接透過 pip 安裝是不是很方便）"
      ],
      "id": "ioYB1sE_XyRA"
    },
    {
      "cell_type": "code",
      "source": [
        "!pip install datasets"
      ],
      "metadata": {
        "colab": {
          "base_uri": "https://localhost:8080/"
        },
        "id": "fzBsWagf9M-v",
        "outputId": "1dbd06a7-b756-47a8-d46c-3cbb937c6638"
      },
      "id": "fzBsWagf9M-v",
      "execution_count": 2,
      "outputs": [
        {
          "output_type": "stream",
          "name": "stdout",
          "text": [
            "Requirement already satisfied: datasets in /usr/local/lib/python3.10/dist-packages (2.14.5)\n",
            "Requirement already satisfied: numpy>=1.17 in /usr/local/lib/python3.10/dist-packages (from datasets) (1.23.5)\n",
            "Requirement already satisfied: pyarrow>=8.0.0 in /usr/local/lib/python3.10/dist-packages (from datasets) (9.0.0)\n",
            "Requirement already satisfied: dill<0.3.8,>=0.3.0 in /usr/local/lib/python3.10/dist-packages (from datasets) (0.3.7)\n",
            "Requirement already satisfied: pandas in /usr/local/lib/python3.10/dist-packages (from datasets) (1.5.3)\n",
            "Requirement already satisfied: requests>=2.19.0 in /usr/local/lib/python3.10/dist-packages (from datasets) (2.31.0)\n",
            "Requirement already satisfied: tqdm>=4.62.1 in /usr/local/lib/python3.10/dist-packages (from datasets) (4.66.1)\n",
            "Requirement already satisfied: xxhash in /usr/local/lib/python3.10/dist-packages (from datasets) (3.4.1)\n",
            "Requirement already satisfied: multiprocess in /usr/local/lib/python3.10/dist-packages (from datasets) (0.70.15)\n",
            "Requirement already satisfied: fsspec[http]<2023.9.0,>=2023.1.0 in /usr/local/lib/python3.10/dist-packages (from datasets) (2023.6.0)\n",
            "Requirement already satisfied: aiohttp in /usr/local/lib/python3.10/dist-packages (from datasets) (3.8.5)\n",
            "Requirement already satisfied: huggingface-hub<1.0.0,>=0.14.0 in /usr/local/lib/python3.10/dist-packages (from datasets) (0.17.3)\n",
            "Requirement already satisfied: packaging in /usr/local/lib/python3.10/dist-packages (from datasets) (23.2)\n",
            "Requirement already satisfied: pyyaml>=5.1 in /usr/local/lib/python3.10/dist-packages (from datasets) (6.0.1)\n",
            "Requirement already satisfied: attrs>=17.3.0 in /usr/local/lib/python3.10/dist-packages (from aiohttp->datasets) (23.1.0)\n",
            "Requirement already satisfied: charset-normalizer<4.0,>=2.0 in /usr/local/lib/python3.10/dist-packages (from aiohttp->datasets) (3.3.0)\n",
            "Requirement already satisfied: multidict<7.0,>=4.5 in /usr/local/lib/python3.10/dist-packages (from aiohttp->datasets) (6.0.4)\n",
            "Requirement already satisfied: async-timeout<5.0,>=4.0.0a3 in /usr/local/lib/python3.10/dist-packages (from aiohttp->datasets) (4.0.3)\n",
            "Requirement already satisfied: yarl<2.0,>=1.0 in /usr/local/lib/python3.10/dist-packages (from aiohttp->datasets) (1.9.2)\n",
            "Requirement already satisfied: frozenlist>=1.1.1 in /usr/local/lib/python3.10/dist-packages (from aiohttp->datasets) (1.4.0)\n",
            "Requirement already satisfied: aiosignal>=1.1.2 in /usr/local/lib/python3.10/dist-packages (from aiohttp->datasets) (1.3.1)\n",
            "Requirement already satisfied: filelock in /usr/local/lib/python3.10/dist-packages (from huggingface-hub<1.0.0,>=0.14.0->datasets) (3.12.4)\n",
            "Requirement already satisfied: typing-extensions>=3.7.4.3 in /usr/local/lib/python3.10/dist-packages (from huggingface-hub<1.0.0,>=0.14.0->datasets) (4.5.0)\n",
            "Requirement already satisfied: idna<4,>=2.5 in /usr/local/lib/python3.10/dist-packages (from requests>=2.19.0->datasets) (3.4)\n",
            "Requirement already satisfied: urllib3<3,>=1.21.1 in /usr/local/lib/python3.10/dist-packages (from requests>=2.19.0->datasets) (2.0.6)\n",
            "Requirement already satisfied: certifi>=2017.4.17 in /usr/local/lib/python3.10/dist-packages (from requests>=2.19.0->datasets) (2023.7.22)\n",
            "Requirement already satisfied: python-dateutil>=2.8.1 in /usr/local/lib/python3.10/dist-packages (from pandas->datasets) (2.8.2)\n",
            "Requirement already satisfied: pytz>=2020.1 in /usr/local/lib/python3.10/dist-packages (from pandas->datasets) (2023.3.post1)\n",
            "Requirement already satisfied: six>=1.5 in /usr/local/lib/python3.10/dist-packages (from python-dateutil>=2.8.1->pandas->datasets) (1.16.0)\n"
          ]
        }
      ]
    },
    {
      "cell_type": "code",
      "source": [
        "from datasets import load_dataset\n",
        "\n",
        "dataset = load_dataset(\"imdb\")"
      ],
      "metadata": {
        "id": "r_mBNUdCA410"
      },
      "id": "r_mBNUdCA410",
      "execution_count": 3,
      "outputs": []
    },
    {
      "cell_type": "markdown",
      "source": [
        "看一下資料格式長怎樣"
      ],
      "metadata": {
        "id": "07XTeYjcTen9"
      },
      "id": "07XTeYjcTen9"
    },
    {
      "cell_type": "code",
      "source": [
        "dataset"
      ],
      "metadata": {
        "colab": {
          "base_uri": "https://localhost:8080/"
        },
        "id": "JxuLKpupMejB",
        "outputId": "2f461248-8ad8-455f-d157-7ad0acd727b3"
      },
      "id": "JxuLKpupMejB",
      "execution_count": 4,
      "outputs": [
        {
          "output_type": "execute_result",
          "data": {
            "text/plain": [
              "DatasetDict({\n",
              "    train: Dataset({\n",
              "        features: ['text', 'label'],\n",
              "        num_rows: 25000\n",
              "    })\n",
              "    test: Dataset({\n",
              "        features: ['text', 'label'],\n",
              "        num_rows: 25000\n",
              "    })\n",
              "    unsupervised: Dataset({\n",
              "        features: ['text', 'label'],\n",
              "        num_rows: 50000\n",
              "    })\n",
              "})"
            ]
          },
          "metadata": {},
          "execution_count": 4
        }
      ]
    },
    {
      "cell_type": "code",
      "source": [
        "dataset['train'][0]"
      ],
      "metadata": {
        "colab": {
          "base_uri": "https://localhost:8080/"
        },
        "id": "fkrrOqXdTaaE",
        "outputId": "b8b8bf32-79df-495a-ac50-031ddafe4908"
      },
      "id": "fkrrOqXdTaaE",
      "execution_count": 5,
      "outputs": [
        {
          "output_type": "execute_result",
          "data": {
            "text/plain": [
              "{'text': 'I rented I AM CURIOUS-YELLOW from my video store because of all the controversy that surrounded it when it was first released in 1967. I also heard that at first it was seized by U.S. customs if it ever tried to enter this country, therefore being a fan of films considered \"controversial\" I really had to see this for myself.<br /><br />The plot is centered around a young Swedish drama student named Lena who wants to learn everything she can about life. In particular she wants to focus her attentions to making some sort of documentary on what the average Swede thought about certain political issues such as the Vietnam War and race issues in the United States. In between asking politicians and ordinary denizens of Stockholm about their opinions on politics, she has sex with her drama teacher, classmates, and married men.<br /><br />What kills me about I AM CURIOUS-YELLOW is that 40 years ago, this was considered pornographic. Really, the sex and nudity scenes are few and far between, even then it\\'s not shot like some cheaply made porno. While my countrymen mind find it shocking, in reality sex and nudity are a major staple in Swedish cinema. Even Ingmar Bergman, arguably their answer to good old boy John Ford, had sex scenes in his films.<br /><br />I do commend the filmmakers for the fact that any sex shown in the film is shown for artistic purposes rather than just to shock people and make money to be shown in pornographic theaters in America. I AM CURIOUS-YELLOW is a good film for anyone wanting to study the meat and potatoes (no pun intended) of Swedish cinema. But really, this film doesn\\'t have much of a plot.',\n",
              " 'label': 0}"
            ]
          },
          "metadata": {},
          "execution_count": 5
        }
      ]
    },
    {
      "cell_type": "markdown",
      "source": [
        "結合 huggingface 上 imdb 的介紹 及圖 2，我們可以發現 unsupervised 的資料是沒有正負向標籤的，因此本次只採用 train 與 test 資料。\n",
        "\n",
        "在這步驟，我們需要將原資料重新進行分割。將 train 與 test 資料合併後切割成 3:1:1 或是 8:1:1 的一組新的 train/val/test 資料集。\n",
        "\n",
        "把資料拿出來後，將train及test合併，重新切割後，儲存下來。\n",
        "\n",
        "\n",
        "---\n",
        "\n",
        "\n",
        "作者於此處將資料合併重切，是為了得到驗證集和增加訓練筆數。當然也可以直接從測試集直接 sample 驗證集，每個人的作法不一定相同～但若要與其他模型比較，需採用一致的測試集。"
      ],
      "metadata": {
        "id": "6JN_QzdbSR2I"
      },
      "id": "6JN_QzdbSR2I"
    },
    {
      "cell_type": "code",
      "source": [
        "import pandas as pd\n",
        "\n",
        "all_data = [] # a list to save all data\n",
        "\n",
        "for data in dataset['train']:\n",
        "  all_data.append({'text':data['text'], 'label':data['label']})\n",
        "for data in dataset['test']:\n",
        "  all_data.append({'text':data['text'], 'label':data['label']})\n",
        "\n",
        "all_df = pd.DataFrame(all_data, columns=['text', 'label'])\n",
        "all_df.head(5)"
      ],
      "metadata": {
        "colab": {
          "base_uri": "https://localhost:8080/",
          "height": 0
        },
        "id": "PHWieZNXIos5",
        "outputId": "2962b454-5dd9-4cf3-a6b7-88fe855e52a4"
      },
      "id": "PHWieZNXIos5",
      "execution_count": 6,
      "outputs": [
        {
          "output_type": "execute_result",
          "data": {
            "text/plain": [
              "                                                text  label\n",
              "0  I rented I AM CURIOUS-YELLOW from my video sto...      0\n",
              "1  \"I Am Curious: Yellow\" is a risible and preten...      0\n",
              "2  If only to avoid making this type of film in t...      0\n",
              "3  This film was probably inspired by Godard's Ma...      0\n",
              "4  Oh, brother...after hearing about this ridicul...      0"
            ],
            "text/html": [
              "\n",
              "  <div id=\"df-d0f1a637-9d2d-4dd1-a933-82ba4eaabed1\" class=\"colab-df-container\">\n",
              "    <div>\n",
              "<style scoped>\n",
              "    .dataframe tbody tr th:only-of-type {\n",
              "        vertical-align: middle;\n",
              "    }\n",
              "\n",
              "    .dataframe tbody tr th {\n",
              "        vertical-align: top;\n",
              "    }\n",
              "\n",
              "    .dataframe thead th {\n",
              "        text-align: right;\n",
              "    }\n",
              "</style>\n",
              "<table border=\"1\" class=\"dataframe\">\n",
              "  <thead>\n",
              "    <tr style=\"text-align: right;\">\n",
              "      <th></th>\n",
              "      <th>text</th>\n",
              "      <th>label</th>\n",
              "    </tr>\n",
              "  </thead>\n",
              "  <tbody>\n",
              "    <tr>\n",
              "      <th>0</th>\n",
              "      <td>I rented I AM CURIOUS-YELLOW from my video sto...</td>\n",
              "      <td>0</td>\n",
              "    </tr>\n",
              "    <tr>\n",
              "      <th>1</th>\n",
              "      <td>\"I Am Curious: Yellow\" is a risible and preten...</td>\n",
              "      <td>0</td>\n",
              "    </tr>\n",
              "    <tr>\n",
              "      <th>2</th>\n",
              "      <td>If only to avoid making this type of film in t...</td>\n",
              "      <td>0</td>\n",
              "    </tr>\n",
              "    <tr>\n",
              "      <th>3</th>\n",
              "      <td>This film was probably inspired by Godard's Ma...</td>\n",
              "      <td>0</td>\n",
              "    </tr>\n",
              "    <tr>\n",
              "      <th>4</th>\n",
              "      <td>Oh, brother...after hearing about this ridicul...</td>\n",
              "      <td>0</td>\n",
              "    </tr>\n",
              "  </tbody>\n",
              "</table>\n",
              "</div>\n",
              "    <div class=\"colab-df-buttons\">\n",
              "\n",
              "  <div class=\"colab-df-container\">\n",
              "    <button class=\"colab-df-convert\" onclick=\"convertToInteractive('df-d0f1a637-9d2d-4dd1-a933-82ba4eaabed1')\"\n",
              "            title=\"Convert this dataframe to an interactive table.\"\n",
              "            style=\"display:none;\">\n",
              "\n",
              "  <svg xmlns=\"http://www.w3.org/2000/svg\" height=\"24px\" viewBox=\"0 -960 960 960\">\n",
              "    <path d=\"M120-120v-720h720v720H120Zm60-500h600v-160H180v160Zm220 220h160v-160H400v160Zm0 220h160v-160H400v160ZM180-400h160v-160H180v160Zm440 0h160v-160H620v160ZM180-180h160v-160H180v160Zm440 0h160v-160H620v160Z\"/>\n",
              "  </svg>\n",
              "    </button>\n",
              "\n",
              "  <style>\n",
              "    .colab-df-container {\n",
              "      display:flex;\n",
              "      gap: 12px;\n",
              "    }\n",
              "\n",
              "    .colab-df-convert {\n",
              "      background-color: #E8F0FE;\n",
              "      border: none;\n",
              "      border-radius: 50%;\n",
              "      cursor: pointer;\n",
              "      display: none;\n",
              "      fill: #1967D2;\n",
              "      height: 32px;\n",
              "      padding: 0 0 0 0;\n",
              "      width: 32px;\n",
              "    }\n",
              "\n",
              "    .colab-df-convert:hover {\n",
              "      background-color: #E2EBFA;\n",
              "      box-shadow: 0px 1px 2px rgba(60, 64, 67, 0.3), 0px 1px 3px 1px rgba(60, 64, 67, 0.15);\n",
              "      fill: #174EA6;\n",
              "    }\n",
              "\n",
              "    .colab-df-buttons div {\n",
              "      margin-bottom: 4px;\n",
              "    }\n",
              "\n",
              "    [theme=dark] .colab-df-convert {\n",
              "      background-color: #3B4455;\n",
              "      fill: #D2E3FC;\n",
              "    }\n",
              "\n",
              "    [theme=dark] .colab-df-convert:hover {\n",
              "      background-color: #434B5C;\n",
              "      box-shadow: 0px 1px 3px 1px rgba(0, 0, 0, 0.15);\n",
              "      filter: drop-shadow(0px 1px 2px rgba(0, 0, 0, 0.3));\n",
              "      fill: #FFFFFF;\n",
              "    }\n",
              "  </style>\n",
              "\n",
              "    <script>\n",
              "      const buttonEl =\n",
              "        document.querySelector('#df-d0f1a637-9d2d-4dd1-a933-82ba4eaabed1 button.colab-df-convert');\n",
              "      buttonEl.style.display =\n",
              "        google.colab.kernel.accessAllowed ? 'block' : 'none';\n",
              "\n",
              "      async function convertToInteractive(key) {\n",
              "        const element = document.querySelector('#df-d0f1a637-9d2d-4dd1-a933-82ba4eaabed1');\n",
              "        const dataTable =\n",
              "          await google.colab.kernel.invokeFunction('convertToInteractive',\n",
              "                                                    [key], {});\n",
              "        if (!dataTable) return;\n",
              "\n",
              "        const docLinkHtml = 'Like what you see? Visit the ' +\n",
              "          '<a target=\"_blank\" href=https://colab.research.google.com/notebooks/data_table.ipynb>data table notebook</a>'\n",
              "          + ' to learn more about interactive tables.';\n",
              "        element.innerHTML = '';\n",
              "        dataTable['output_type'] = 'display_data';\n",
              "        await google.colab.output.renderOutput(dataTable, element);\n",
              "        const docLink = document.createElement('div');\n",
              "        docLink.innerHTML = docLinkHtml;\n",
              "        element.appendChild(docLink);\n",
              "      }\n",
              "    </script>\n",
              "  </div>\n",
              "\n",
              "\n",
              "<div id=\"df-f3d5ae64-76a1-4e54-8488-2085034c3be0\">\n",
              "  <button class=\"colab-df-quickchart\" onclick=\"quickchart('df-f3d5ae64-76a1-4e54-8488-2085034c3be0')\"\n",
              "            title=\"Suggest charts.\"\n",
              "            style=\"display:none;\">\n",
              "\n",
              "<svg xmlns=\"http://www.w3.org/2000/svg\" height=\"24px\"viewBox=\"0 0 24 24\"\n",
              "     width=\"24px\">\n",
              "    <g>\n",
              "        <path d=\"M19 3H5c-1.1 0-2 .9-2 2v14c0 1.1.9 2 2 2h14c1.1 0 2-.9 2-2V5c0-1.1-.9-2-2-2zM9 17H7v-7h2v7zm4 0h-2V7h2v10zm4 0h-2v-4h2v4z\"/>\n",
              "    </g>\n",
              "</svg>\n",
              "  </button>\n",
              "\n",
              "<style>\n",
              "  .colab-df-quickchart {\n",
              "      --bg-color: #E8F0FE;\n",
              "      --fill-color: #1967D2;\n",
              "      --hover-bg-color: #E2EBFA;\n",
              "      --hover-fill-color: #174EA6;\n",
              "      --disabled-fill-color: #AAA;\n",
              "      --disabled-bg-color: #DDD;\n",
              "  }\n",
              "\n",
              "  [theme=dark] .colab-df-quickchart {\n",
              "      --bg-color: #3B4455;\n",
              "      --fill-color: #D2E3FC;\n",
              "      --hover-bg-color: #434B5C;\n",
              "      --hover-fill-color: #FFFFFF;\n",
              "      --disabled-bg-color: #3B4455;\n",
              "      --disabled-fill-color: #666;\n",
              "  }\n",
              "\n",
              "  .colab-df-quickchart {\n",
              "    background-color: var(--bg-color);\n",
              "    border: none;\n",
              "    border-radius: 50%;\n",
              "    cursor: pointer;\n",
              "    display: none;\n",
              "    fill: var(--fill-color);\n",
              "    height: 32px;\n",
              "    padding: 0;\n",
              "    width: 32px;\n",
              "  }\n",
              "\n",
              "  .colab-df-quickchart:hover {\n",
              "    background-color: var(--hover-bg-color);\n",
              "    box-shadow: 0 1px 2px rgba(60, 64, 67, 0.3), 0 1px 3px 1px rgba(60, 64, 67, 0.15);\n",
              "    fill: var(--button-hover-fill-color);\n",
              "  }\n",
              "\n",
              "  .colab-df-quickchart-complete:disabled,\n",
              "  .colab-df-quickchart-complete:disabled:hover {\n",
              "    background-color: var(--disabled-bg-color);\n",
              "    fill: var(--disabled-fill-color);\n",
              "    box-shadow: none;\n",
              "  }\n",
              "\n",
              "  .colab-df-spinner {\n",
              "    border: 2px solid var(--fill-color);\n",
              "    border-color: transparent;\n",
              "    border-bottom-color: var(--fill-color);\n",
              "    animation:\n",
              "      spin 1s steps(1) infinite;\n",
              "  }\n",
              "\n",
              "  @keyframes spin {\n",
              "    0% {\n",
              "      border-color: transparent;\n",
              "      border-bottom-color: var(--fill-color);\n",
              "      border-left-color: var(--fill-color);\n",
              "    }\n",
              "    20% {\n",
              "      border-color: transparent;\n",
              "      border-left-color: var(--fill-color);\n",
              "      border-top-color: var(--fill-color);\n",
              "    }\n",
              "    30% {\n",
              "      border-color: transparent;\n",
              "      border-left-color: var(--fill-color);\n",
              "      border-top-color: var(--fill-color);\n",
              "      border-right-color: var(--fill-color);\n",
              "    }\n",
              "    40% {\n",
              "      border-color: transparent;\n",
              "      border-right-color: var(--fill-color);\n",
              "      border-top-color: var(--fill-color);\n",
              "    }\n",
              "    60% {\n",
              "      border-color: transparent;\n",
              "      border-right-color: var(--fill-color);\n",
              "    }\n",
              "    80% {\n",
              "      border-color: transparent;\n",
              "      border-right-color: var(--fill-color);\n",
              "      border-bottom-color: var(--fill-color);\n",
              "    }\n",
              "    90% {\n",
              "      border-color: transparent;\n",
              "      border-bottom-color: var(--fill-color);\n",
              "    }\n",
              "  }\n",
              "</style>\n",
              "\n",
              "  <script>\n",
              "    async function quickchart(key) {\n",
              "      const quickchartButtonEl =\n",
              "        document.querySelector('#' + key + ' button');\n",
              "      quickchartButtonEl.disabled = true;  // To prevent multiple clicks.\n",
              "      quickchartButtonEl.classList.add('colab-df-spinner');\n",
              "      try {\n",
              "        const charts = await google.colab.kernel.invokeFunction(\n",
              "            'suggestCharts', [key], {});\n",
              "      } catch (error) {\n",
              "        console.error('Error during call to suggestCharts:', error);\n",
              "      }\n",
              "      quickchartButtonEl.classList.remove('colab-df-spinner');\n",
              "      quickchartButtonEl.classList.add('colab-df-quickchart-complete');\n",
              "    }\n",
              "    (() => {\n",
              "      let quickchartButtonEl =\n",
              "        document.querySelector('#df-f3d5ae64-76a1-4e54-8488-2085034c3be0 button');\n",
              "      quickchartButtonEl.style.display =\n",
              "        google.colab.kernel.accessAllowed ? 'block' : 'none';\n",
              "    })();\n",
              "  </script>\n",
              "</div>\n",
              "    </div>\n",
              "  </div>\n"
            ]
          },
          "metadata": {},
          "execution_count": 6
        }
      ]
    },
    {
      "cell_type": "code",
      "source": [
        "all_df.label.value_counts() / len(all_df)"
      ],
      "metadata": {
        "colab": {
          "base_uri": "https://localhost:8080/"
        },
        "id": "mSQjyAzaoAJD",
        "outputId": "5fa546b0-4758-4c36-ffb7-6fe62fe4227c"
      },
      "id": "mSQjyAzaoAJD",
      "execution_count": 7,
      "outputs": [
        {
          "output_type": "execute_result",
          "data": {
            "text/plain": [
              "0    0.5\n",
              "1    0.5\n",
              "Name: label, dtype: float64"
            ]
          },
          "metadata": {},
          "execution_count": 7
        }
      ]
    },
    {
      "cell_type": "code",
      "source": [
        "from sklearn.model_selection import train_test_split\n",
        "\n",
        "train_df, temp_data = train_test_split(all_df, random_state=1111, train_size=0.8)\n",
        "val_df, test_df = train_test_split(temp_data, random_state=1111, train_size=0.5)\n",
        "print('# of train_df:', len(train_df))\n",
        "print('# of val_df:', len(val_df))\n",
        "print('# of test_df data:', len(test_df))\n",
        "\n",
        "# save data\n",
        "train_df.to_csv('./train.tsv', sep='\\t', index=False)\n",
        "val_df.to_csv('./val.tsv', sep='\\t', index=False)\n",
        "test_df.to_csv('./test.tsv', sep='\\t', index=False)"
      ],
      "metadata": {
        "colab": {
          "base_uri": "https://localhost:8080/"
        },
        "id": "RhM_od5-Tpkc",
        "outputId": "8f7de2b2-56cc-4d47-fdd3-cdc0429727a1"
      },
      "id": "RhM_od5-Tpkc",
      "execution_count": 8,
      "outputs": [
        {
          "output_type": "stream",
          "name": "stdout",
          "text": [
            "# of train_df: 40000\n",
            "# of val_df: 5000\n",
            "# of test_df data: 5000\n"
          ]
        }
      ]
    },
    {
      "cell_type": "markdown",
      "source": [
        "### [Tokenizer 簡介](https://huggingface.co/docs/transformers/main_classes/tokenizer)\n",
        "\n",
        "這邊會先帶大家快速走一遍 Tokenzier 是怎麼做的"
      ],
      "metadata": {
        "id": "c-1_Rgd2-jU-"
      },
      "id": "c-1_Rgd2-jU-"
    },
    {
      "cell_type": "code",
      "source": [
        "!pip install transformers"
      ],
      "metadata": {
        "colab": {
          "base_uri": "https://localhost:8080/"
        },
        "id": "GqpELI4hKoeg",
        "outputId": "500a61cb-8e90-4a01-cafe-ca9ce05630f3"
      },
      "id": "GqpELI4hKoeg",
      "execution_count": 9,
      "outputs": [
        {
          "output_type": "stream",
          "name": "stdout",
          "text": [
            "Requirement already satisfied: transformers in /usr/local/lib/python3.10/dist-packages (4.34.0)\n",
            "Requirement already satisfied: filelock in /usr/local/lib/python3.10/dist-packages (from transformers) (3.12.4)\n",
            "Requirement already satisfied: huggingface-hub<1.0,>=0.16.4 in /usr/local/lib/python3.10/dist-packages (from transformers) (0.17.3)\n",
            "Requirement already satisfied: numpy>=1.17 in /usr/local/lib/python3.10/dist-packages (from transformers) (1.23.5)\n",
            "Requirement already satisfied: packaging>=20.0 in /usr/local/lib/python3.10/dist-packages (from transformers) (23.2)\n",
            "Requirement already satisfied: pyyaml>=5.1 in /usr/local/lib/python3.10/dist-packages (from transformers) (6.0.1)\n",
            "Requirement already satisfied: regex!=2019.12.17 in /usr/local/lib/python3.10/dist-packages (from transformers) (2023.6.3)\n",
            "Requirement already satisfied: requests in /usr/local/lib/python3.10/dist-packages (from transformers) (2.31.0)\n",
            "Requirement already satisfied: tokenizers<0.15,>=0.14 in /usr/local/lib/python3.10/dist-packages (from transformers) (0.14.1)\n",
            "Requirement already satisfied: safetensors>=0.3.1 in /usr/local/lib/python3.10/dist-packages (from transformers) (0.4.0)\n",
            "Requirement already satisfied: tqdm>=4.27 in /usr/local/lib/python3.10/dist-packages (from transformers) (4.66.1)\n",
            "Requirement already satisfied: fsspec in /usr/local/lib/python3.10/dist-packages (from huggingface-hub<1.0,>=0.16.4->transformers) (2023.6.0)\n",
            "Requirement already satisfied: typing-extensions>=3.7.4.3 in /usr/local/lib/python3.10/dist-packages (from huggingface-hub<1.0,>=0.16.4->transformers) (4.5.0)\n",
            "Requirement already satisfied: charset-normalizer<4,>=2 in /usr/local/lib/python3.10/dist-packages (from requests->transformers) (3.3.0)\n",
            "Requirement already satisfied: idna<4,>=2.5 in /usr/local/lib/python3.10/dist-packages (from requests->transformers) (3.4)\n",
            "Requirement already satisfied: urllib3<3,>=1.21.1 in /usr/local/lib/python3.10/dist-packages (from requests->transformers) (2.0.6)\n",
            "Requirement already satisfied: certifi>=2017.4.17 in /usr/local/lib/python3.10/dist-packages (from requests->transformers) (2023.7.22)\n"
          ]
        }
      ]
    },
    {
      "cell_type": "code",
      "source": [
        "from transformers import AutoTokenizer"
      ],
      "metadata": {
        "id": "5eScmf2ZLaMn"
      },
      "id": "5eScmf2ZLaMn",
      "execution_count": 10,
      "outputs": []
    },
    {
      "cell_type": "code",
      "source": [
        "config_name = 'bert-base-uncased'\n",
        "tokenizer = AutoTokenizer.from_pretrained(config_name)"
      ],
      "metadata": {
        "id": "QcLKMrma_BZ2"
      },
      "id": "QcLKMrma_BZ2",
      "execution_count": 11,
      "outputs": []
    },
    {
      "cell_type": "code",
      "source": [
        "sample_s = \"How's everything going?\"\n",
        "token = tokenizer.tokenize(sample_s)\n",
        "print(token)"
      ],
      "metadata": {
        "colab": {
          "base_uri": "https://localhost:8080/"
        },
        "outputId": "c2ee415a-c915-4b3f-ae21-ae0dccc0cd97",
        "id": "FNLzPgq3G91h"
      },
      "execution_count": 12,
      "outputs": [
        {
          "output_type": "stream",
          "name": "stdout",
          "text": [
            "['how', \"'\", 's', 'everything', 'going', '?']\n"
          ]
        }
      ],
      "id": "FNLzPgq3G91h"
    },
    {
      "cell_type": "code",
      "source": [
        "sample_s = \"How's everything going?\"\n",
        "ids = tokenizer.encode(sample_s)\n",
        "print(ids)"
      ],
      "metadata": {
        "colab": {
          "base_uri": "https://localhost:8080/"
        },
        "id": "p9iRaod8CybL",
        "outputId": "f8774fbb-be7e-4edd-9b3b-a125957e4601"
      },
      "id": "p9iRaod8CybL",
      "execution_count": 13,
      "outputs": [
        {
          "output_type": "stream",
          "name": "stdout",
          "text": [
            "[101, 2129, 1005, 1055, 2673, 2183, 1029, 102]\n"
          ]
        }
      ]
    },
    {
      "cell_type": "code",
      "source": [
        "tokenizer.decode(ids)"
      ],
      "metadata": {
        "colab": {
          "base_uri": "https://localhost:8080/",
          "height": 0
        },
        "id": "nY7v9S9mHSlW",
        "outputId": "adaad094-a49e-489f-bc46-16a8eec97fe8"
      },
      "id": "nY7v9S9mHSlW",
      "execution_count": 14,
      "outputs": [
        {
          "output_type": "execute_result",
          "data": {
            "text/plain": [
              "\"[CLS] how's everything going? [SEP]\""
            ],
            "application/vnd.google.colaboratory.intrinsic+json": {
              "type": "string"
            }
          },
          "metadata": {},
          "execution_count": 14
        }
      ]
    },
    {
      "cell_type": "code",
      "source": [
        "print(tokenizer.convert_ids_to_tokens(ids))\n",
        "print(tokenizer.convert_tokens_to_ids(token))\n",
        "print(tokenizer.convert_tokens_to_string(token))"
      ],
      "metadata": {
        "colab": {
          "base_uri": "https://localhost:8080/"
        },
        "id": "BQ0RgigrJLUs",
        "outputId": "70c2e7a3-8516-4333-9d4a-77107e69234d"
      },
      "id": "BQ0RgigrJLUs",
      "execution_count": 15,
      "outputs": [
        {
          "output_type": "stream",
          "name": "stdout",
          "text": [
            "['[CLS]', 'how', \"'\", 's', 'everything', 'going', '?', '[SEP]']\n",
            "[2129, 1005, 1055, 2673, 2183, 1029]\n",
            "how ' s everything going?\n"
          ]
        }
      ]
    },
    {
      "cell_type": "code",
      "source": [
        "sample_s = \"How's everything going?\"\n",
        "es = tokenizer.encode_plus(sample_s)\n",
        "print(es)"
      ],
      "metadata": {
        "colab": {
          "base_uri": "https://localhost:8080/"
        },
        "id": "Tw2849UAJCo9",
        "outputId": "9ac87c57-4130-488f-a84f-c1e698a7a8e3"
      },
      "id": "Tw2849UAJCo9",
      "execution_count": 16,
      "outputs": [
        {
          "output_type": "stream",
          "name": "stdout",
          "text": [
            "{'input_ids': [101, 2129, 1005, 1055, 2673, 2183, 1029, 102], 'token_type_ids': [0, 0, 0, 0, 0, 0, 0, 0], 'attention_mask': [1, 1, 1, 1, 1, 1, 1, 1]}\n"
          ]
        }
      ]
    },
    {
      "cell_type": "code",
      "source": [
        "inputs = tokenizer.encode_plus(\n",
        "    sample_s,\n",
        "    max_length = 7,\n",
        "    truncation = True,\n",
        "    padding = 'max_length',\n",
        "    return_tensors = 'pt'\n",
        ")\n",
        "print(inputs)"
      ],
      "metadata": {
        "colab": {
          "base_uri": "https://localhost:8080/"
        },
        "id": "OaeIMyUuJK8Y",
        "outputId": "5efd6134-a7c4-4b90-b9ca-ceb9ee3a0712"
      },
      "id": "OaeIMyUuJK8Y",
      "execution_count": 17,
      "outputs": [
        {
          "output_type": "stream",
          "name": "stdout",
          "text": [
            "{'input_ids': tensor([[ 101, 2129, 1005, 1055, 2673, 2183,  102]]), 'token_type_ids': tensor([[0, 0, 0, 0, 0, 0, 0]]), 'attention_mask': tensor([[1, 1, 1, 1, 1, 1, 1]])}\n"
          ]
        }
      ]
    },
    {
      "cell_type": "code",
      "source": [
        "sample_os = \"How are you?\"\n",
        "os = tokenizer.encode_plus(\n",
        "    sample_os,\n",
        "    max_length = 7,\n",
        "    truncation = True,\n",
        "    padding = 'max_length'\n",
        ")\n",
        "print(os)"
      ],
      "metadata": {
        "colab": {
          "base_uri": "https://localhost:8080/"
        },
        "id": "MwfL4rUcMUMk",
        "outputId": "011be794-07f9-446a-ebf4-5990c2000bdd"
      },
      "id": "MwfL4rUcMUMk",
      "execution_count": 18,
      "outputs": [
        {
          "output_type": "stream",
          "name": "stdout",
          "text": [
            "{'input_ids': [101, 2129, 2024, 2017, 1029, 102, 0], 'token_type_ids': [0, 0, 0, 0, 0, 0, 0], 'attention_mask': [1, 1, 1, 1, 1, 1, 0]}\n"
          ]
        }
      ]
    },
    {
      "cell_type": "markdown",
      "metadata": {
        "id": "le1XiOWDXyRE"
      },
      "source": [
        "### 自定義 Dataset，將tokenzie的步驟放進去"
      ],
      "id": "le1XiOWDXyRE"
    },
    {
      "cell_type": "code",
      "execution_count": 19,
      "metadata": {
        "id": "yvkBgVIhXyRF"
      },
      "outputs": [],
      "source": [
        "import torch\n",
        "from torch.utils.data import Dataset, DataLoader\n",
        "from transformers import AutoTokenizer\n",
        "import torch\n",
        "import torch.nn.functional as Fun\n",
        "\n",
        "# Using Dataset to build DataLoader\n",
        "class CustomDataset(Dataset):\n",
        "    def __init__(self, mode, df, specify, args):\n",
        "        assert mode in [\"train\", \"val\", \"test\"]  # 一般會切三份\n",
        "        self.mode = mode\n",
        "        self.df = df\n",
        "        self.specify = specify # specify column of data (the column U use for predict)\n",
        "        if self.mode != 'test':\n",
        "          self.label = df['label']\n",
        "        self.tokenizer = AutoTokenizer.from_pretrained(args[\"config\"])\n",
        "        self.max_len = args[\"max_len\"]\n",
        "        self.num_class = args[\"num_class\"]\n",
        "\n",
        "    def __len__(self):\n",
        "        return len(self.df)\n",
        "\n",
        "    # transform label to one_hot label (if num_class > 2)\n",
        "    def one_hot_label(self, label):\n",
        "        return Fun.one_hot(torch.tensor(label), num_classes = self.num_class)\n",
        "\n",
        "    # transform text to its number\n",
        "    def tokenize(self,input_text):\n",
        "        inputs = self.tokenizer.encode_plus(\n",
        "            input_text,\n",
        "            max_length = self.max_len,\n",
        "            truncation = True,\n",
        "            padding = 'max_length'\n",
        "        )\n",
        "        ids = inputs['input_ids']\n",
        "        mask = inputs['attention_mask']\n",
        "        token_type_ids = inputs[\"token_type_ids\"]\n",
        "\n",
        "        return ids,mask,token_type_ids\n",
        "\n",
        "    # get single data\n",
        "    def __getitem__(self, index):\n",
        "\n",
        "        sentence = str(self.df[self.specify][index])\n",
        "        ids, mask, token_type_ids = self.tokenize(sentence)\n",
        "\n",
        "\n",
        "        if self.mode == \"test\":\n",
        "            return torch.tensor(ids, dtype=torch.long), torch.tensor(mask, dtype=torch.long), \\\n",
        "                torch.tensor(token_type_ids, dtype=torch.long)\n",
        "        else:\n",
        "            if self.num_class > 2:\n",
        "              return torch.tensor(ids, dtype=torch.long), torch.tensor(mask, dtype=torch.long), \\\n",
        "                torch.tensor(token_type_ids, dtype=torch.long), self.one_hot_label(self.label[index])\n",
        "            else:\n",
        "              return torch.tensor(ids, dtype=torch.long), torch.tensor(mask, dtype=torch.long), \\\n",
        "                torch.tensor(token_type_ids, dtype=torch.long), torch.tensor(self.label[index], dtype=torch.long)"
      ],
      "id": "yvkBgVIhXyRF"
    },
    {
      "cell_type": "markdown",
      "source": [
        "### 建立 DataLoader\n",
        "\n",
        "讀入資料並傳入自定的 Dataset 以自訂資料格式\n",
        "\n",
        "之後傳入DataLoader以利後續訓練進行（將資料批次化以免記憶體爆掉）"
      ],
      "metadata": {
        "id": "IJpQ20GSZOoV"
      },
      "id": "IJpQ20GSZOoV"
    },
    {
      "cell_type": "code",
      "execution_count": 20,
      "metadata": {
        "id": "W0t0NVOAXyRG"
      },
      "outputs": [],
      "source": [
        "import transformers\n",
        "import pandas as pd\n",
        "\n",
        "# load training data\n",
        "train_df = pd.read_csv('./train.tsv', sep = '\\t').sample(4000, random_state=parameters['seed']).reset_index(drop=True)\n",
        "train_dataset = CustomDataset('train', train_df, 'text', parameters)\n",
        "train_loader = DataLoader(train_dataset, batch_size=parameters['batch_size'], shuffle=True)\n",
        "\n",
        "# load validation data\n",
        "val_df = pd.read_csv('./val.tsv', sep = '\\t').sample(500, random_state=parameters['seed']).reset_index(drop=True)\n",
        "val_dataset = CustomDataset('val', val_df, 'text', parameters)\n",
        "val_loader = DataLoader(val_dataset, batch_size=parameters['batch_size'], shuffle=True)"
      ],
      "id": "W0t0NVOAXyRG"
    },
    {
      "cell_type": "code",
      "execution_count": 21,
      "metadata": {
        "id": "ej79ZzPJXyQ5"
      },
      "outputs": [],
      "source": [
        "import warnings\n",
        "warnings.filterwarnings('ignore') # setting ignore as a parameter"
      ],
      "id": "ej79ZzPJXyQ5"
    },
    {
      "cell_type": "markdown",
      "source": [
        "## 建立模型\n",
        "\n",
        "*   自己重新寫分類模型\n",
        "*   模型訓練與評估的程式碼大致上相同，差別在於模型是否繼續進行梯度下降，以及模型參數是否繼續訓練\n",
        "\n"
      ],
      "metadata": {
        "id": "RQsY2rjue4Tm"
      },
      "id": "RQsY2rjue4Tm"
    },
    {
      "cell_type": "markdown",
      "source": [
        "### train utils"
      ],
      "metadata": {
        "id": "42tUULbmdt17"
      },
      "id": "42tUULbmdt17"
    },
    {
      "cell_type": "code",
      "execution_count": 22,
      "metadata": {
        "id": "nOSkuPT7XyQ8"
      },
      "outputs": [],
      "source": [
        "from sklearn.metrics import accuracy_score, precision_score, f1_score, recall_score\n",
        "\n",
        "# get predict result\n",
        "def get_pred(logits):\n",
        "    y_pred = torch.argmax(logits, dim = 1)\n",
        "    return y_pred\n",
        "\n",
        "# calculate confusion metrics\n",
        "def cal_metrics(pred, ans, method):\n",
        "    '''\n",
        "    Parameter\n",
        "    ---------\n",
        "    pred: [list], predict class\n",
        "    ans: [list], true class\n",
        "    method: 'micro', 'weighted', 'macro'.\n",
        "    ---------\n",
        "    '''\n",
        "    if pred.get_device() != 'cpu':\n",
        "        pred = pred.detach().cpu().numpy()\n",
        "    if ans.get_device() != 'cpu':\n",
        "        ans = ans.detach().cpu().numpy()\n",
        "    rec = recall_score(pred, ans, average=method, zero_division=0)\n",
        "    f1 = f1_score(pred, ans, average=method, zero_division=0)\n",
        "    prec = precision_score(pred, ans, average=method, zero_division=0)\n",
        "    acc = accuracy_score(pred, ans)\n",
        "    return acc, f1, rec, prec"
      ],
      "id": "nOSkuPT7XyQ8"
    },
    {
      "cell_type": "code",
      "execution_count": 23,
      "metadata": {
        "id": "RuLxKpySXyQ-"
      },
      "outputs": [],
      "source": [
        "# save model to path\n",
        "def save_checkpoint(save_path, model):\n",
        "    if save_path == None:\n",
        "        return\n",
        "    torch.save(model.state_dict(), save_path)\n",
        "    print(f'Model saved to ==> {save_path}')\n",
        "\n",
        "# load model from path\n",
        "def load_checkpoint(load_path, model, device):\n",
        "    if load_path==None:\n",
        "        return\n",
        "    state_dict = torch.load(load_path, map_location=device)\n",
        "    print(f'Model loaded from <== {load_path}')\n",
        "\n",
        "    model.load_state_dict(state_dict)\n",
        "    return model"
      ],
      "id": "RuLxKpySXyQ-"
    },
    {
      "cell_type": "code",
      "execution_count": 24,
      "metadata": {
        "id": "HtQra69-XyRI"
      },
      "outputs": [],
      "source": [
        "import matplotlib.pyplot as plt\n",
        "\n",
        "# draw the learning curve\n",
        "def draw_pic(record, name, img_save=False, show=False):\n",
        "    x_ticks = range(1, parameters[\"epochs\"]+1)\n",
        "\n",
        "    plt.figure(figsize=(6, 3))\n",
        "\n",
        "    plt.plot(x_ticks, record['train_'+name], '-o', color='lightskyblue',\n",
        "             markeredgecolor=\"teal\", markersize=3, markeredgewidth=1, label = 'Train')\n",
        "    plt.plot(x_ticks, record['val_'+name], '-o', color='pink',\n",
        "             markeredgecolor=\"salmon\", markersize=3, markeredgewidth=1, label = 'Val')\n",
        "    plt.grid(color='lightgray', linestyle='--', linewidth=1)\n",
        "\n",
        "    plt.title('Model', fontsize=14)\n",
        "    plt.ylabel(name, fontsize=12)\n",
        "    plt.xlabel('Epoch', fontsize=12)\n",
        "    plt.xticks(x_ticks, fontsize=12)\n",
        "    plt.yticks(fontsize=12)\n",
        "    plt.legend(loc='lower right' if not name.lower().endswith('loss') else 'upper right')\n",
        "\n",
        "    if img_save:\n",
        "        plt.savefig(name+'.png', transparent=False, dpi=300)\n",
        "    if show:\n",
        "        plt.show()\n",
        "\n",
        "    plt.close()"
      ],
      "id": "HtQra69-XyRI"
    },
    {
      "cell_type": "code",
      "execution_count": 25,
      "metadata": {
        "id": "-gjV5dGCXyRI"
      },
      "outputs": [],
      "source": [
        "import smtplib\n",
        "from email.mime.multipart import MIMEMultipart\n",
        "from email.mime.text import MIMEText\n",
        "from email.mime.image import MIMEImage\n",
        "from email.mime.base import MIMEBase\n",
        "from email import encoders\n",
        "\n",
        "def send_email(hyperparameters, png_files):\n",
        "\n",
        "    # create MIMEMultipart\n",
        "    msg = MIMEMultipart()\n",
        "\n",
        "    # define sender and receiver, U need to change this for yours\n",
        "    msg['From'] = 'YOUR EMAIL ACCOUNT'\n",
        "    msg['To'] = 'YOUR EMAIL ACCOUNT'\n",
        "\n",
        "    msg['Subject'] = 'Training Result'\n",
        "\n",
        "    # create text content\n",
        "    text = MIMEText(f'{hyperparameters}\\n\\n')\n",
        "    msg.attach(text)\n",
        "\n",
        "    # read png\n",
        "    for file in png_files:\n",
        "        with open(file, 'rb') as fp:\n",
        "            image = MIMEBase('application', \"octet-stream\")\n",
        "            image.set_payload(fp.read())\n",
        "        encoders.encode_base64(image)\n",
        "        image.add_header('Content-Disposition', 'attachment', filename=file)\n",
        "        msg.attach(image)\n",
        "\n",
        "    # 建立 SMTP 服務\n",
        "    server = smtplib.SMTP('smtp.gmail.com', 587)\n",
        "    server.ehlo()\n",
        "    server.starttls()\n",
        "    server.login('YOUR EMAIL ACCOUNT',  'YOUR EMAIL PASSWOED') # U need to change this for yours\n",
        "\n",
        "    server.send_message(msg)  # send email\n",
        "    server.quit()  # close the email channel"
      ],
      "id": "-gjV5dGCXyRI"
    },
    {
      "cell_type": "markdown",
      "source": [
        "### model"
      ],
      "metadata": {
        "id": "hZi5P4H5d0er"
      },
      "id": "hZi5P4H5d0er"
    },
    {
      "cell_type": "code",
      "source": [
        "import torch.nn as nn\n",
        "\n",
        "# define different activation function\n",
        "def get_activation(activation):\n",
        "    if activation == 'Prelu':\n",
        "        return nn.PReLU()\n",
        "    elif activation == 'relu':\n",
        "        return nn.ReLU()\n",
        "    elif activation == 'sigmoid':\n",
        "        return nn.Sigmoid()\n",
        "    elif activation == 'gelu':\n",
        "        return nn.GELU()\n",
        "    elif activation == 'LeakyReLU':\n",
        "        return nn.LeakyReLU()\n",
        "    else:\n",
        "        return nn.Tanh()\n",
        "\n",
        "# Dense Layer\n",
        "# It is composed of linear, (dropout), and activation layers.\n",
        "# dropout is optional, and activation is needed when there is more than one linear layer\n",
        "class Dense(nn.Module):\n",
        "    def __init__(self, input_dim, output_dim, dropout_rate, activation='tanh'):\n",
        "        super(Dense, self).__init__()\n",
        "\n",
        "        self.hidden_layer = nn.Linear(input_dim, output_dim)\n",
        "        self.dropout = nn.Dropout(dropout_rate)\n",
        "        self.activation = get_activation(activation) # default tanh\n",
        "        nn.init.xavier_uniform_(self.hidden_layer.weight) # you also can change the initialize method\n",
        "\n",
        "    def forward(self, inputs):\n",
        "        logits = self.hidden_layer(inputs)\n",
        "        logits = self.dropout(logits)\n",
        "        logits = self.activation(logits)\n",
        "\n",
        "        return logits"
      ],
      "metadata": {
        "id": "oWw6r2CWIY0C"
      },
      "execution_count": 26,
      "outputs": [],
      "id": "oWw6r2CWIY0C"
    },
    {
      "cell_type": "code",
      "execution_count": 27,
      "metadata": {
        "id": "suyj5WLJXyQ7"
      },
      "outputs": [],
      "source": [
        "from transformers.models.bert.modeling_bert import BertPreTrainedModel, BertModel\n",
        "import torch.nn as nn\n",
        "\n",
        "# BERT Model\n",
        "class BertClassifier(BertPreTrainedModel):\n",
        "    def __init__(self, config, args):\n",
        "        super(BertClassifier, self).__init__(config)\n",
        "        self.bert = BertModel(config)\n",
        "        self.num_labels = args[\"num_class\"]\n",
        "        self.dropout = nn.Dropout(args[\"dropout\"])\n",
        "        self.classifier = nn.Linear(config.hidden_size, self.num_labels)\n",
        "        self.init_weights()\n",
        "\n",
        "    # forward function, data in model will do this\n",
        "    def forward(self, input_ids=None, attention_mask=None, token_type_ids=None, position_ids=None,\n",
        "                head_mask=None, inputs_embeds=None, labels=None, output_attentions=None,\n",
        "                output_hidden_states=None, return_dict=None):\n",
        "\n",
        "        return_dict = return_dict if return_dict is not None else self.config.use_return_dict\n",
        "\n",
        "        # bert output\n",
        "        outputs = self.bert(\n",
        "            input_ids,\n",
        "            attention_mask=attention_mask,\n",
        "            token_type_ids=token_type_ids,\n",
        "            position_ids=position_ids,\n",
        "            head_mask=head_mask,\n",
        "            inputs_embeds=inputs_embeds,\n",
        "            output_attentions=output_attentions,\n",
        "            output_hidden_states=output_hidden_states,\n",
        "            return_dict=return_dict\n",
        "        )\n",
        "        '''\n",
        "        outputs.keys() -> odict_keys(['last_hidden_state', 'pooler_output'])\n",
        "        outs.last_hidden_state.shape -> torch.Size([batch_size, 512, 768])\n",
        "        outs.pooler_output.shape -> torch.Size([batch_size, 768])\n",
        "        '''\n",
        "\n",
        "        # get its [CLS] logits\n",
        "        pooled_output = outputs[1] # (batch_size, 768)\n",
        "        # add dense layer\n",
        "        pooled_output = self.dropout(pooled_output) # (batch_size, 768)\n",
        "        # add linear classifier\n",
        "        logits = self.classifier(pooled_output) # (batch_size, 2)\n",
        "\n",
        "        return logits"
      ],
      "id": "suyj5WLJXyQ7"
    },
    {
      "cell_type": "code",
      "execution_count": 28,
      "metadata": {
        "id": "_QVJaIv5XyQ9"
      },
      "outputs": [],
      "source": [
        "# evaluate dataloader\n",
        "def evaluate(model, data_loader, device):\n",
        "    val_loss, val_acc, val_f1, val_rec, val_prec = 0.0, 0.0, 0.0, 0.0, 0.0\n",
        "    step_count = 0\n",
        "    loss_fct = nn.CrossEntropyLoss()\n",
        "    model.eval()\n",
        "    with torch.no_grad():\n",
        "        for data in data_loader:\n",
        "            ids, masks, token_type_ids, labels = [t.to(device) for t in data]\n",
        "\n",
        "            logits = model(input_ids = ids,\n",
        "                    token_type_ids = token_type_ids,\n",
        "                    attention_mask = masks)\n",
        "            acc, f1, rec, prec = cal_metrics(get_pred(logits), labels, 'macro')\n",
        "            loss = loss_fct(logits, labels)\n",
        "\n",
        "            val_loss += loss.item()\n",
        "            val_acc += acc\n",
        "            val_f1 += f1\n",
        "            val_rec += rec\n",
        "            val_prec += prec\n",
        "            step_count+=1\n",
        "\n",
        "        val_loss = val_loss / step_count\n",
        "        val_acc = val_acc / step_count\n",
        "        val_f1 = val_f1 / step_count\n",
        "        val_rec = val_rec / step_count\n",
        "        val_prec = val_prec / step_count\n",
        "\n",
        "    return val_loss, val_acc, val_f1, val_rec, val_prec"
      ],
      "id": "_QVJaIv5XyQ9"
    },
    {
      "cell_type": "code",
      "execution_count": 29,
      "metadata": {
        "id": "BUX_aw7hXyRH"
      },
      "outputs": [],
      "source": [
        "# Start training\n",
        "import time\n",
        "\n",
        "def train(model, train_loader, val_loader, optimizer, args, device):\n",
        "  metrics = ['loss', 'acc', 'f1', 'rec', 'prec']\n",
        "  mode = ['train_', 'val_']\n",
        "  record = {s+m :[] for s in mode for m in metrics}\n",
        "\n",
        "  for epoch in range(args[\"epochs\"]):\n",
        "\n",
        "      st_time = time.time()\n",
        "      train_loss, train_acc, train_f1, train_rec, train_prec = 0.0, 0.0, 0.0, 0.0, 0.0\n",
        "      step_count = 0\n",
        "\n",
        "      model.train()\n",
        "      for data in train_loader:\n",
        "\n",
        "          ids, masks, token_type_ids, labels = [t.to(device) for t in data]\n",
        "\n",
        "          optimizer.zero_grad()\n",
        "\n",
        "          logits = model(input_ids = ids,\n",
        "                  token_type_ids = token_type_ids,\n",
        "                  attention_mask = masks)\n",
        "          acc, f1, rec, prec = cal_metrics(get_pred(logits), labels, 'macro')\n",
        "          loss = loss_fct(logits, labels)\n",
        "\n",
        "          loss.backward()\n",
        "          optimizer.step()\n",
        "\n",
        "          train_loss += loss.item()\n",
        "          train_acc += acc\n",
        "          train_f1 += f1\n",
        "          train_rec += rec\n",
        "          train_prec += prec\n",
        "          step_count += 1\n",
        "\n",
        "      # evaluate the model performace on val data after finishing an epoch training\n",
        "      val_loss, val_acc, val_f1, val_rec, val_prec = evaluate(model, val_loader, device)\n",
        "\n",
        "      train_loss = train_loss / step_count\n",
        "      train_acc = train_acc / step_count\n",
        "      train_f1 = train_f1 / step_count\n",
        "      train_rec = train_rec / step_count\n",
        "      train_prec = train_prec / step_count\n",
        "\n",
        "      print('[epoch %d] cost time: %.4f s'%(epoch + 1, time.time() - st_time))\n",
        "      print('         loss     acc     f1      rec    prec')\n",
        "      print('train | %.4f, %.4f, %.4f, %.4f, %.4f'%(train_loss, train_acc, train_f1, train_rec, train_prec))\n",
        "      print('val  | %.4f, %.4f, %.4f, %.4f, %.4f\\n'%(val_loss, val_acc, val_f1, val_rec, val_prec))\n",
        "\n",
        "      # record training metrics of each training epoch\n",
        "      record['train_loss'].append(train_loss)\n",
        "      record['train_acc'].append(train_acc)\n",
        "      record['train_f1'].append(train_f1)\n",
        "      record['train_rec'].append(train_rec)\n",
        "      record['train_prec'].append(train_prec)\n",
        "\n",
        "      record['val_loss'].append(val_loss)\n",
        "      record['val_acc'].append(val_acc)\n",
        "      record['val_f1'].append(val_f1)\n",
        "      record['val_rec'].append(val_rec)\n",
        "      record['val_prec'].append(val_prec)\n",
        "\n",
        "  # save model\n",
        "  save_checkpoint(args[\"model_name\"] + '_' + args[\"time\"].split('_')[0] + '.pt', model)\n",
        "  return record"
      ],
      "id": "BUX_aw7hXyRH"
    },
    {
      "cell_type": "markdown",
      "metadata": {
        "id": "4QTsH978XyRG"
      },
      "source": [
        "## 開始訓練"
      ],
      "id": "4QTsH978XyRG"
    },
    {
      "cell_type": "markdown",
      "source": [
        "### 初始化模型\n",
        "*   載入模型（這邊會使用已經訓練過的模型，Fine-tune我們的資料集）\n",
        "*   定義Optimization\n",
        "  *   通常用Adam就可以了，你也可以換SGD之類的試看看\n",
        "  *   可以自己看需不需要加scheduler（可以自己寫一個function，也可以直接套用現有的function）\n",
        "  \n",
        "  ［請記得pytorch中是以step去計算，想要用epoch去訂定需自行換算］\n",
        "\n",
        "\n"
      ],
      "metadata": {
        "id": "nMZ8wEyjab68"
      },
      "id": "nMZ8wEyjab68"
    },
    {
      "cell_type": "code",
      "source": [
        "transformers.logging.set_verbosity_error() # close the warning message\n",
        "\n",
        "device = torch.device(\"cuda\" if torch.cuda.is_available() else \"cpu\")\n",
        "model = BertClassifier.from_pretrained(parameters['config'], parameters).to(device)\n",
        "loss_fct = torch.nn.CrossEntropyLoss() # we use cross entrophy loss\n",
        "\n",
        "## You can custom your optimizer (e.g. SGD .etc) ##\n",
        "# we use Adam here\n",
        "optimizer = torch.optim.Adam(model.parameters(), lr=parameters['learning_rate'], betas=(0.9, 0.999), eps=1e-9)\n",
        "\n",
        "## You also can add your custom scheduler ##\n",
        "# num_train_steps = len(train_loader) * parameters['epochs]\n",
        "# scheduler = get_cosine_schedule_with_warmup(optimizer, num_warmup_steps=int(0.1 * num_train_steps), num_training_steps=num_train_steps, num_cycles=1)"
      ],
      "metadata": {
        "id": "5D7NzvuGaZfY"
      },
      "id": "5D7NzvuGaZfY",
      "execution_count": 30,
      "outputs": []
    },
    {
      "cell_type": "markdown",
      "source": [
        "訓練+畫圖"
      ],
      "metadata": {
        "id": "SreMXnt6d9zU"
      },
      "id": "SreMXnt6d9zU"
    },
    {
      "cell_type": "code",
      "execution_count": 31,
      "metadata": {
        "colab": {
          "base_uri": "https://localhost:8080/",
          "height": 1000
        },
        "id": "RKEdRFDzXyRI",
        "outputId": "862ddf72-da32-434d-e9d1-c3fa5da31b4a"
      },
      "outputs": [
        {
          "output_type": "stream",
          "name": "stdout",
          "text": [
            "[epoch 1] cost time: 377.3754 s\n",
            "         loss     acc     f1      rec    prec\n",
            "train | 0.4743, 0.7482, 0.7188, 0.7475, 0.7540\n",
            "val  | 0.3118, 0.8887, 0.8776, 0.8864, 0.8865\n",
            "\n",
            "[epoch 2] cost time: 385.4104 s\n",
            "         loss     acc     f1      rec    prec\n",
            "train | 0.2511, 0.9042, 0.8957, 0.9104, 0.9029\n",
            "val  | 0.2841, 0.8984, 0.8914, 0.8974, 0.8950\n",
            "\n",
            "[epoch 3] cost time: 385.8103 s\n",
            "         loss     acc     f1      rec    prec\n",
            "train | 0.1221, 0.9580, 0.9546, 0.9596, 0.9586\n",
            "val  | 0.3693, 0.8652, 0.8569, 0.8718, 0.8628\n",
            "\n",
            "Model saved to ==> BERT_2023-10-07.pt\n"
          ]
        },
        {
          "output_type": "display_data",
          "data": {
            "text/plain": [
              "<Figure size 600x300 with 1 Axes>"
            ],
            "image/png": "[encoded data removed]"
          },
          "metadata": {}
        },
        {
          "output_type": "display_data",
          "data": {
            "text/plain": [
              "<Figure size 600x300 with 1 Axes>"
            ],
            "image/png": "[encoded data removed]"
          },
          "metadata": {}
        },
        {
          "output_type": "display_data",
          "data": {
            "text/plain": [
              "<Figure size 600x300 with 1 Axes>"
            ],
            "image/png": "[encoded data removed]"
          },
          "metadata": {}
        },
        {
          "output_type": "display_data",
          "data": {
            "text/plain": [
              "<Figure size 600x300 with 1 Axes>"
            ],
            "image/png": "[encoded data removed]"
          },
          "metadata": {}
        },
        {
          "output_type": "display_data",
          "data": {
            "text/plain": [
              "<Figure size 600x300 with 1 Axes>"
            ],
            "image/png": "[encoded data removed]"
          },
          "metadata": {}
        }
      ],
      "source": [
        "history = train(model, train_loader, val_loader, optimizer, parameters, device)\n",
        "\n",
        "# draw all metrics figure\n",
        "draw_pic(history, 'loss', img_save=True, show=True)\n",
        "draw_pic(history, 'acc', img_save=True, show=True)\n",
        "draw_pic(history, 'f1', img_save=True, show=True)\n",
        "draw_pic(history, 'rec', img_save=True, show=True)\n",
        "draw_pic(history, 'prec', img_save=True, show=True)\n",
        "\n",
        "files = []\n",
        "files.append('loss.png')\n",
        "files.append('acc.png')\n",
        "files.append('f1.png')\n",
        "files.append('rec.png')\n",
        "files.append('prec.png')\n",
        "send_email(parameters, files)"
      ],
      "id": "RKEdRFDzXyRI"
    },
    {
      "cell_type": "markdown",
      "metadata": {
        "id": "A6GLT9fOXyRJ"
      },
      "source": [
        "## 預測結果"
      ],
      "id": "A6GLT9fOXyRJ"
    },
    {
      "cell_type": "markdown",
      "metadata": {
        "id": "NXV9nz2RXyRJ"
      },
      "source": [
        "預測單筆（跟評估的程式大同小異）\n",
        "\n",
        "（你也可以像evaluate function一樣，把它寫成dataloader的形式）\n",
        "\n"
      ],
      "id": "NXV9nz2RXyRJ"
    },
    {
      "cell_type": "code",
      "execution_count": 32,
      "metadata": {
        "id": "BEjRQrsnXyRJ"
      },
      "outputs": [],
      "source": [
        "def Softmax(x):\n",
        "    return torch.exp(x) / torch.exp(x).sum()"
      ],
      "id": "BEjRQrsnXyRJ"
    },
    {
      "cell_type": "code",
      "execution_count": 33,
      "metadata": {
        "id": "a4D4Z9-8XyRK"
      },
      "outputs": [],
      "source": [
        "# label to class\n",
        "def label2class(label):\n",
        "  l2c = {0:'negative', 1:'positive'}\n",
        "  return l2c[label]\n",
        "\n",
        "# predict single sentence\n",
        "def predict_one(query, model):\n",
        "\n",
        "  tokenizer = AutoTokenizer.from_pretrained(parameters['config'])\n",
        "  device = torch.device(\"cuda\" if torch.cuda.is_available() else \"cpu\")\n",
        "\n",
        "  model.eval()\n",
        "  with torch.no_grad():\n",
        "    inputs = tokenizer.encode_plus(\n",
        "        query,\n",
        "        max_length = parameters['max_len'],\n",
        "        truncation = True,\n",
        "        padding = 'max_length',\n",
        "        return_tensors = 'pt'\n",
        "    )\n",
        "\n",
        "    input_ids = inputs['input_ids'].to(device)\n",
        "    attention_mask = inputs['attention_mask'].to(device)\n",
        "    token_type_ids = inputs['token_type_ids'].to(device)\n",
        "\n",
        "    # forward pass\n",
        "    logits = model(input_ids, attention_mask, token_type_ids)\n",
        "    probs = Softmax(logits) # get each class-probs\n",
        "    label_index = torch.argmax(probs[0], dim=0)\n",
        "    pred = label_index.item()\n",
        "\n",
        "  return probs, pred\n"
      ],
      "id": "a4D4Z9-8XyRK"
    },
    {
      "cell_type": "code",
      "execution_count": 34,
      "metadata": {
        "colab": {
          "base_uri": "https://localhost:8080/"
        },
        "id": "egfecB7sXyRK",
        "outputId": "6406be03-df4a-452f-9a93-91c63f6c3652"
      },
      "outputs": [
        {
          "output_type": "stream",
          "name": "stdout",
          "text": [
            "Model loaded from <== ./BERT_2023-10-07.pt\n"
          ]
        }
      ],
      "source": [
        "# you can load model from existing result\n",
        "device = torch.device(\"cuda\" if torch.cuda.is_available() else \"cpu\")\n",
        "init_model = BertClassifier.from_pretrained(parameters['config'], parameters) # build an initial model\n",
        "model = load_checkpoint('./BERT_2023-10-07.pt', init_model, device).to(device) # and load the weight of model from specify file"
      ],
      "id": "egfecB7sXyRK"
    },
    {
      "cell_type": "code",
      "execution_count": 35,
      "metadata": {
        "colab": {
          "base_uri": "https://localhost:8080/"
        },
        "id": "0BowzmKvXyRK",
        "outputId": "763b88fc-c2ea-452b-9650-82c2b873e9a0"
      },
      "outputs": [
        {
          "output_type": "stream",
          "name": "stdout",
          "text": [
            "tensor([[0.9779, 0.0221]], device='cuda:0') 0\n",
            "CPU times: user 78.1 ms, sys: 4 ms, total: 82.1 ms\n",
            "Wall time: 340 ms\n"
          ]
        }
      ],
      "source": [
        "%%time\n",
        "probs, pred = predict_one(\"This movie doesn't attract me\", model)\n",
        "print(probs, pred)\n",
        "# print(label2class(pred))"
      ],
      "id": "0BowzmKvXyRK"
    },
    {
      "cell_type": "code",
      "execution_count": 36,
      "metadata": {
        "id": "c0s5Da92XyRN"
      },
      "outputs": [],
      "source": [
        "# predict dataloader\n",
        "def predict(data_loader, model):\n",
        "\n",
        "  tokenizer = AutoTokenizer.from_pretrained(parameters['config'])\n",
        "  device = torch.device(\"cuda\" if torch.cuda.is_available() else \"cpu\")\n",
        "\n",
        "  total_probs, total_pred = [], []\n",
        "  model.eval()\n",
        "  with torch.no_grad():\n",
        "    for data in data_loader:\n",
        "      input_ids, attention_mask, \\\n",
        "      token_type_ids = [t.to(device) for t in data]\n",
        "\n",
        "      # forward pass\n",
        "      logits = model(input_ids, attention_mask, token_type_ids)\n",
        "      probs = Softmax(logits) # get each class-probs\n",
        "      label_index = torch.argmax(probs[0], dim=0)\n",
        "      pred = label_index.item()\n",
        "\n",
        "      total_probs.append(probs)\n",
        "      total_pred.append(pred)\n",
        "\n",
        "  return total_probs, total_pred"
      ],
      "id": "c0s5Da92XyRN"
    },
    {
      "cell_type": "code",
      "execution_count": 37,
      "metadata": {
        "id": "lPkXV9J5XyRN"
      },
      "outputs": [],
      "source": [
        "# load testing data\n",
        "test_df = pd.read_csv('./test.tsv', sep = '\\t').sample(500).reset_index(drop=True)\n",
        "test_dataset = CustomDataset('test', test_df, 'text', parameters)\n",
        "test_loader = DataLoader(test_dataset, batch_size=1, shuffle=False)\n",
        "\n",
        "total_probs, total_pred = predict(test_loader, model)\n",
        "res = test_df.copy()\n",
        "# add predict class of origin file\n",
        "res['pred'] = total_pred\n",
        "\n",
        "# save result\n",
        "res.to_csv('./result.tsv', sep='\\t', index=False)"
      ],
      "id": "lPkXV9J5XyRN"
    },
    {
      "cell_type": "code",
      "source": [
        "res.head(5)"
      ],
      "metadata": {
        "colab": {
          "base_uri": "https://localhost:8080/",
          "height": 206
        },
        "id": "e8R4lQHVCBw7",
        "outputId": "faff301f-f093-4052-be5c-565adba85ffd"
      },
      "id": "e8R4lQHVCBw7",
      "execution_count": 38,
      "outputs": [
        {
          "output_type": "execute_result",
          "data": {
            "text/plain": [
              "                                                text  label  pred\n",
              "0  I don't know how I would feel if I lived in US...      1     0\n",
              "1  This sorry excuse for a film reminded me a gre...      0     0\n",
              "2  A warmly sentimental tale from the author of T...      1     1\n",
              "3  This is being commented on only because Serge ...      1     1\n",
              "4  Despite the overwhelming cult following for th...      0     0"
            ],
            "text/html": [
              "\n",
              "  <div id=\"df-aa9ffd49-6f42-4d1e-8c58-1816cc8a0f3a\" class=\"colab-df-container\">\n",
              "    <div>\n",
              "<style scoped>\n",
              "    .dataframe tbody tr th:only-of-type {\n",
              "        vertical-align: middle;\n",
              "    }\n",
              "\n",
              "    .dataframe tbody tr th {\n",
              "        vertical-align: top;\n",
              "    }\n",
              "\n",
              "    .dataframe thead th {\n",
              "        text-align: right;\n",
              "    }\n",
              "</style>\n",
              "<table border=\"1\" class=\"dataframe\">\n",
              "  <thead>\n",
              "    <tr style=\"text-align: right;\">\n",
              "      <th></th>\n",
              "      <th>text</th>\n",
              "      <th>label</th>\n",
              "      <th>pred</th>\n",
              "    </tr>\n",
              "  </thead>\n",
              "  <tbody>\n",
              "    <tr>\n",
              "      <th>0</th>\n",
              "      <td>I don't know how I would feel if I lived in US...</td>\n",
              "      <td>1</td>\n",
              "      <td>0</td>\n",
              "    </tr>\n",
              "    <tr>\n",
              "      <th>1</th>\n",
              "      <td>This sorry excuse for a film reminded me a gre...</td>\n",
              "      <td>0</td>\n",
              "      <td>0</td>\n",
              "    </tr>\n",
              "    <tr>\n",
              "      <th>2</th>\n",
              "      <td>A warmly sentimental tale from the author of T...</td>\n",
              "      <td>1</td>\n",
              "      <td>1</td>\n",
              "    </tr>\n",
              "    <tr>\n",
              "      <th>3</th>\n",
              "      <td>This is being commented on only because Serge ...</td>\n",
              "      <td>1</td>\n",
              "      <td>1</td>\n",
              "    </tr>\n",
              "    <tr>\n",
              "      <th>4</th>\n",
              "      <td>Despite the overwhelming cult following for th...</td>\n",
              "      <td>0</td>\n",
              "      <td>0</td>\n",
              "    </tr>\n",
              "  </tbody>\n",
              "</table>\n",
              "</div>\n",
              "    <div class=\"colab-df-buttons\">\n",
              "\n",
              "  <div class=\"colab-df-container\">\n",
              "    <button class=\"colab-df-convert\" onclick=\"convertToInteractive('df-aa9ffd49-6f42-4d1e-8c58-1816cc8a0f3a')\"\n",
              "            title=\"Convert this dataframe to an interactive table.\"\n",
              "            style=\"display:none;\">\n",
              "\n",
              "  <svg xmlns=\"http://www.w3.org/2000/svg\" height=\"24px\" viewBox=\"0 -960 960 960\">\n",
              "    <path d=\"M120-120v-720h720v720H120Zm60-500h600v-160H180v160Zm220 220h160v-160H400v160Zm0 220h160v-160H400v160ZM180-400h160v-160H180v160Zm440 0h160v-160H620v160ZM180-180h160v-160H180v160Zm440 0h160v-160H620v160Z\"/>\n",
              "  </svg>\n",
              "    </button>\n",
              "\n",
              "  <style>\n",
              "    .colab-df-container {\n",
              "      display:flex;\n",
              "      gap: 12px;\n",
              "    }\n",
              "\n",
              "    .colab-df-convert {\n",
              "      background-color: #E8F0FE;\n",
              "      border: none;\n",
              "      border-radius: 50%;\n",
              "      cursor: pointer;\n",
              "      display: none;\n",
              "      fill: #1967D2;\n",
              "      height: 32px;\n",
              "      padding: 0 0 0 0;\n",
              "      width: 32px;\n",
              "    }\n",
              "\n",
              "    .colab-df-convert:hover {\n",
              "      background-color: #E2EBFA;\n",
              "      box-shadow: 0px 1px 2px rgba(60, 64, 67, 0.3), 0px 1px 3px 1px rgba(60, 64, 67, 0.15);\n",
              "      fill: #174EA6;\n",
              "    }\n",
              "\n",
              "    .colab-df-buttons div {\n",
              "      margin-bottom: 4px;\n",
              "    }\n",
              "\n",
              "    [theme=dark] .colab-df-convert {\n",
              "      background-color: #3B4455;\n",
              "      fill: #D2E3FC;\n",
              "    }\n",
              "\n",
              "    [theme=dark] .colab-df-convert:hover {\n",
              "      background-color: #434B5C;\n",
              "      box-shadow: 0px 1px 3px 1px rgba(0, 0, 0, 0.15);\n",
              "      filter: drop-shadow(0px 1px 2px rgba(0, 0, 0, 0.3));\n",
              "      fill: #FFFFFF;\n",
              "    }\n",
              "  </style>\n",
              "\n",
              "    <script>\n",
              "      const buttonEl =\n",
              "        document.querySelector('#df-aa9ffd49-6f42-4d1e-8c58-1816cc8a0f3a button.colab-df-convert');\n",
              "      buttonEl.style.display =\n",
              "        google.colab.kernel.accessAllowed ? 'block' : 'none';\n",
              "\n",
              "      async function convertToInteractive(key) {\n",
              "        const element = document.querySelector('#df-aa9ffd49-6f42-4d1e-8c58-1816cc8a0f3a');\n",
              "        const dataTable =\n",
              "          await google.colab.kernel.invokeFunction('convertToInteractive',\n",
              "                                                    [key], {});\n",
              "        if (!dataTable) return;\n",
              "\n",
              "        const docLinkHtml = 'Like what you see? Visit the ' +\n",
              "          '<a target=\"_blank\" href=https://colab.research.google.com/notebooks/data_table.ipynb>data table notebook</a>'\n",
              "          + ' to learn more about interactive tables.';\n",
              "        element.innerHTML = '';\n",
              "        dataTable['output_type'] = 'display_data';\n",
              "        await google.colab.output.renderOutput(dataTable, element);\n",
              "        const docLink = document.createElement('div');\n",
              "        docLink.innerHTML = docLinkHtml;\n",
              "        element.appendChild(docLink);\n",
              "      }\n",
              "    </script>\n",
              "  </div>\n",
              "\n",
              "\n",
              "<div id=\"df-fd06761a-28fb-426b-9647-c234e9144c66\">\n",
              "  <button class=\"colab-df-quickchart\" onclick=\"quickchart('df-fd06761a-28fb-426b-9647-c234e9144c66')\"\n",
              "            title=\"Suggest charts.\"\n",
              "            style=\"display:none;\">\n",
              "\n",
              "<svg xmlns=\"http://www.w3.org/2000/svg\" height=\"24px\"viewBox=\"0 0 24 24\"\n",
              "     width=\"24px\">\n",
              "    <g>\n",
              "        <path d=\"M19 3H5c-1.1 0-2 .9-2 2v14c0 1.1.9 2 2 2h14c1.1 0 2-.9 2-2V5c0-1.1-.9-2-2-2zM9 17H7v-7h2v7zm4 0h-2V7h2v10zm4 0h-2v-4h2v4z\"/>\n",
              "    </g>\n",
              "</svg>\n",
              "  </button>\n",
              "\n",
              "<style>\n",
              "  .colab-df-quickchart {\n",
              "      --bg-color: #E8F0FE;\n",
              "      --fill-color: #1967D2;\n",
              "      --hover-bg-color: #E2EBFA;\n",
              "      --hover-fill-color: #174EA6;\n",
              "      --disabled-fill-color: #AAA;\n",
              "      --disabled-bg-color: #DDD;\n",
              "  }\n",
              "\n",
              "  [theme=dark] .colab-df-quickchart {\n",
              "      --bg-color: #3B4455;\n",
              "      --fill-color: #D2E3FC;\n",
              "      --hover-bg-color: #434B5C;\n",
              "      --hover-fill-color: #FFFFFF;\n",
              "      --disabled-bg-color: #3B4455;\n",
              "      --disabled-fill-color: #666;\n",
              "  }\n",
              "\n",
              "  .colab-df-quickchart {\n",
              "    background-color: var(--bg-color);\n",
              "    border: none;\n",
              "    border-radius: 50%;\n",
              "    cursor: pointer;\n",
              "    display: none;\n",
              "    fill: var(--fill-color);\n",
              "    height: 32px;\n",
              "    padding: 0;\n",
              "    width: 32px;\n",
              "  }\n",
              "\n",
              "  .colab-df-quickchart:hover {\n",
              "    background-color: var(--hover-bg-color);\n",
              "    box-shadow: 0 1px 2px rgba(60, 64, 67, 0.3), 0 1px 3px 1px rgba(60, 64, 67, 0.15);\n",
              "    fill: var(--button-hover-fill-color);\n",
              "  }\n",
              "\n",
              "  .colab-df-quickchart-complete:disabled,\n",
              "  .colab-df-quickchart-complete:disabled:hover {\n",
              "    background-color: var(--disabled-bg-color);\n",
              "    fill: var(--disabled-fill-color);\n",
              "    box-shadow: none;\n",
              "  }\n",
              "\n",
              "  .colab-df-spinner {\n",
              "    border: 2px solid var(--fill-color);\n",
              "    border-color: transparent;\n",
              "    border-bottom-color: var(--fill-color);\n",
              "    animation:\n",
              "      spin 1s steps(1) infinite;\n",
              "  }\n",
              "\n",
              "  @keyframes spin {\n",
              "    0% {\n",
              "      border-color: transparent;\n",
              "      border-bottom-color: var(--fill-color);\n",
              "      border-left-color: var(--fill-color);\n",
              "    }\n",
              "    20% {\n",
              "      border-color: transparent;\n",
              "      border-left-color: var(--fill-color);\n",
              "      border-top-color: var(--fill-color);\n",
              "    }\n",
              "    30% {\n",
              "      border-color: transparent;\n",
              "      border-left-color: var(--fill-color);\n",
              "      border-top-color: var(--fill-color);\n",
              "      border-right-color: var(--fill-color);\n",
              "    }\n",
              "    40% {\n",
              "      border-color: transparent;\n",
              "      border-right-color: var(--fill-color);\n",
              "      border-top-color: var(--fill-color);\n",
              "    }\n",
              "    60% {\n",
              "      border-color: transparent;\n",
              "      border-right-color: var(--fill-color);\n",
              "    }\n",
              "    80% {\n",
              "      border-color: transparent;\n",
              "      border-right-color: var(--fill-color);\n",
              "      border-bottom-color: var(--fill-color);\n",
              "    }\n",
              "    90% {\n",
              "      border-color: transparent;\n",
              "      border-bottom-color: var(--fill-color);\n",
              "    }\n",
              "  }\n",
              "</style>\n",
              "\n",
              "  <script>\n",
              "    async function quickchart(key) {\n",
              "      const quickchartButtonEl =\n",
              "        document.querySelector('#' + key + ' button');\n",
              "      quickchartButtonEl.disabled = true;  // To prevent multiple clicks.\n",
              "      quickchartButtonEl.classList.add('colab-df-spinner');\n",
              "      try {\n",
              "        const charts = await google.colab.kernel.invokeFunction(\n",
              "            'suggestCharts', [key], {});\n",
              "      } catch (error) {\n",
              "        console.error('Error during call to suggestCharts:', error);\n",
              "      }\n",
              "      quickchartButtonEl.classList.remove('colab-df-spinner');\n",
              "      quickchartButtonEl.classList.add('colab-df-quickchart-complete');\n",
              "    }\n",
              "    (() => {\n",
              "      let quickchartButtonEl =\n",
              "        document.querySelector('#df-fd06761a-28fb-426b-9647-c234e9144c66 button');\n",
              "      quickchartButtonEl.style.display =\n",
              "        google.colab.kernel.accessAllowed ? 'block' : 'none';\n",
              "    })();\n",
              "  </script>\n",
              "</div>\n",
              "    </div>\n",
              "  </div>\n"
            ]
          },
          "metadata": {},
          "execution_count": 38
        }
      ]
    },
    {
      "cell_type": "code",
      "source": [
        "correct = 0\n",
        "for idx, pred in enumerate(res['pred']):\n",
        "  if pred == res['label'][idx]:\n",
        "    correct += 1\n",
        "print('test accuracy = %.4f'%(correct/len(test_df)))"
      ],
      "metadata": {
        "colab": {
          "base_uri": "https://localhost:8080/"
        },
        "id": "FDwvwbIokiq-",
        "outputId": "24f2e585-9b7b-46e2-f3fc-ee15465e08ff"
      },
      "id": "FDwvwbIokiq-",
      "execution_count": 39,
      "outputs": [
        {
          "output_type": "stream",
          "name": "stdout",
          "text": [
            "test accuracy = 0.8600\n"
          ]
        }
      ]
    }
  ],
  "metadata": {
    "kernelspec": {
      "display_name": "Python 3",
      "name": "python3"
    },
    "language_info": {
      "codemirror_mode": {
        "name": "ipython",
        "version": 3
      },
      "file_extension": ".py",
      "mimetype": "text/x-python",
      "name": "python",
      "nbconvert_exporter": "python",
      "pygments_lexer": "ipython3",
      "version": "3.8.5"
    },
    "colab": {
      "provenance": [],
      "collapsed_sections": [
        "sAaBnWzTXyQ_",
        "6Y3gm_UxqEr1",
        "ioYB1sE_XyRA",
        "c-1_Rgd2-jU-",
        "le1XiOWDXyRE",
        "IJpQ20GSZOoV",
        "hZi5P4H5d0er",
        "4QTsH978XyRG",
        "nMZ8wEyjab68",
        "A6GLT9fOXyRJ"
      ],
      "gpuType": "T4",
      "include_colab_link": true
    },
    "accelerator": "GPU"
  },
  "nbformat": 4,
  "nbformat_minor": 5
}